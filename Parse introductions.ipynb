{
 "cells": [
  {
   "cell_type": "markdown",
   "id": "bccab291",
   "metadata": {},
   "source": [
    "This contains non-COI tips currently (which is fine) but would need to filter them out"
   ]
  },
  {
   "cell_type": "code",
   "execution_count": 11,
   "id": "52b08503",
   "metadata": {},
   "outputs": [],
   "source": [
    "import csv\n",
    "import dendropy\n",
    "from collections import defaultdict\n",
    "from collections import Counter\n",
    "import numpy as np\n"
   ]
  },
  {
   "cell_type": "code",
   "execution_count": 12,
   "id": "fbe98acc",
   "metadata": {},
   "outputs": [],
   "source": [
    "countries = [\"cuba\", \"haiti\", \"puerto_rico\", \"dominican_republic\", \"jamaica\", \"other_caribbean\"]"
   ]
  },
  {
   "cell_type": "code",
   "execution_count": 13,
   "id": "147de307",
   "metadata": {},
   "outputs": [],
   "source": [
    "#call on root\n",
    "def parse_introductions(node, country_of_interest, subtree_dict, node_to_ancestor):\n",
    "    \n",
    "    if node.parent_node in subtree_dict.keys(): #if the parent is the root of the subtree, add myself\n",
    "        subtree_dict[node.parent_node].add(node)\n",
    "        node_to_ancestor[node] = node.parent_node    \n",
    "        \n",
    "    elif node.parent_node in node_to_ancestor: #if the parent is already in a subtree, add myself\n",
    "        ancestral_node = node_to_ancestor[node.parent_node]\n",
    "        subtree_dict[ancestral_node].add(node)\n",
    "        node_to_ancestor[node] = ancestral_node\n",
    "        \n",
    "    else: #not in a subtree\n",
    "        if node.annotations[\"location\"].value in country_of_interest: #am I the root of a subtree?\n",
    "            subtree_dict[node] = set()\n",
    "        \n",
    "    if node.taxon:\n",
    "        pass\n",
    "    else:\n",
    "        for child in node.child_node_iter():\n",
    "            parse_introductions(child, country_of_interest, subtree_dict, node_to_ancestor)\n",
    "\n",
    "    return subtree_dict, node_to_ancestor\n",
    "    "
   ]
  },
  {
   "cell_type": "markdown",
   "id": "60de31c0",
   "metadata": {},
   "source": [
    "## running"
   ]
  },
  {
   "cell_type": "code",
   "execution_count": 14,
   "id": "f676309d",
   "metadata": {},
   "outputs": [],
   "source": [
    "for sero in [\"DENV1\",\"DENV2\", \"DENV3\", \"DENV4\"]:\n",
    "\n",
    "    tree = dendropy.Tree.get(path=f\"{sero}_dta.mcc\", schema = \"nexus\")\n",
    "    for country in countries:\n",
    "        subtree_dict = defaultdict(set)\n",
    "        node_to_ancestor = {}\n",
    "\n",
    "        country_lst = [country]\n",
    "        subtree_dict, node_to_ancestor = parse_introductions(tree.seed_node, country_lst, subtree_dict,  node_to_ancestor)\n",
    "\n",
    "        with open(f\"{sero}_{country}.csv\", 'w') as fw:\n",
    "            fieldnames = [\"height\", \"source\", \"size_in_country\", \"tips_country\", \"tips_all\"]\n",
    "            writer = csv.DictWriter(fw, fieldnames=fieldnames)\n",
    "            writer.writeheader()\n",
    "            for node, tips in subtree_dict.items():\n",
    "\n",
    "                tip_country = []\n",
    "                tip_all = []\n",
    "\n",
    "                if node.taxon:\n",
    "                    tip_all.append(node.taxon.label)\n",
    "                    tip_country.append(node.taxon.label)\n",
    "\n",
    "                for tip in tips:\n",
    "                    if tip.taxon:\n",
    "                        tip_all.append(tip.taxon.label)\n",
    "                        if tip.annotations['location'].value == country:\n",
    "                            tip_country.append(tip.taxon.label)\n",
    "\n",
    "                write_dict = {}\n",
    "                \n",
    "                write_dict[\"source\"] = node.parent_node.annotations['location'].value\n",
    "                write_dict[\"height\"] = node.annotations['height'].value\n",
    "                write_dict[\"size_in_country\"] = len(tip_country)\n",
    "                write_dict[\"tips_country\"] = \";\".join(tip_country)\n",
    "                write_dict[\"tips_all\"] = \";\".join(tip_all)\n",
    "\n",
    "                writer.writerow(write_dict)\n",
    "\n",
    "\n",
    "    subtree_dict = defaultdict(set)\n",
    "    node_to_ancestor = {}\n",
    "\n",
    "    subtree_dict, node_to_ancestor = parse_introductions(tree.seed_node,countries, subtree_dict,  node_to_ancestor)\n",
    "\n",
    "    with open(f\"{sero}_whole_caribbean.csv\", 'w') as fw:\n",
    "        fieldnames = [\"height\", \"source\", \"destination\", \"size_in_country\", \"tips_country\", \"tips_all\"]\n",
    "        writer = csv.DictWriter(fw, fieldnames=fieldnames)\n",
    "        writer.writeheader()\n",
    "        for node, tips in subtree_dict.items():\n",
    "\n",
    "            tip_country = []\n",
    "            tip_all = []\n",
    "\n",
    "            if node.taxon:\n",
    "                tip_all.append(node.taxon.label)\n",
    "                tip_country.append(node.taxon.label)\n",
    "\n",
    "            for tip in tips:\n",
    "                if tip.taxon:\n",
    "                    tip_all.append(tip.taxon.label)\n",
    "                    if tip.annotations['location'].value in countries:\n",
    "                        tip_country.append(tip.taxon.label)\n",
    "\n",
    "            write_dict = {}\n",
    "\n",
    "            write_dict[\"source\"] = node.parent_node.annotations['location'].value\n",
    "            write_dict[\"destination\"] = node.annotations['location'].value\n",
    "            write_dict[\"height\"] = node.annotations['height'].value\n",
    "            write_dict[\"size_in_country\"] = len(tip_country)\n",
    "            write_dict[\"tips_country\"] = \";\".join(tip_country)\n",
    "            write_dict[\"tips_all\"] = \";\".join(tip_all)\n",
    "\n",
    "            writer.writerow(write_dict)"
   ]
  },
  {
   "cell_type": "code",
   "execution_count": null,
   "id": "cadba846",
   "metadata": {},
   "outputs": [],
   "source": []
  }
 ],
 "metadata": {
  "kernelspec": {
   "display_name": "Python 3 (ipykernel)",
   "language": "python",
   "name": "python3"
  },
  "language_info": {
   "codemirror_mode": {
    "name": "ipython",
    "version": 3
   },
   "file_extension": ".py",
   "mimetype": "text/x-python",
   "name": "python",
   "nbconvert_exporter": "python",
   "pygments_lexer": "ipython3",
   "version": "3.9.16"
  }
 },
 "nbformat": 4,
 "nbformat_minor": 5
}
